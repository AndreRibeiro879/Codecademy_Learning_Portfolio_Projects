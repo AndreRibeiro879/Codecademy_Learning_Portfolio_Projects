{
 "cells": [
  {
   "cell_type": "markdown",
   "metadata": {},
   "source": [
    "# Assessing Biodiversity in Natural Areas: Insights into Conservation and Species Distribution\n",
    "### A Data-Driven Exploration Using U.S. National Park Observations"
   ]
  },
  {
   "cell_type": "markdown",
   "metadata": {},
   "source": [
    "___\n",
    "\n",
    "### 📚 Table of Contents\n",
    "- 🆎 [Abstract](#--abstract)\n",
    "- 🗝️ [Key Words](#---key-words)\n",
    "- 🌳 [1 - Introduction](#--1---introduction)\n",
    "- ℹ️ [1.1 - Dataset Overview](#--11---dataset-overview)\n",
    "- 🧪 [2 - Methodology](#--2---methodology)\n",
    "- 🛜 [2.1 - Data Sources](#--21---data-sources)\n",
    "- 💻 [2.2 - Analytical Approach](#--22---analytical-approach)\n",
    "- 🛠️ [2.3 - Tools and Environment](#--23---tools-and-environment)\n",
    "- [2 - Understanding the Biodiversity Data](#2---understanding-the-biodiversity-data)\n",
    "- [2.1 - Loading necessary python libraries](#21---loading-necessary-python-libraries)\n",
    "- [2.2 - Loading data files](#22---loading-data-files)\n",
    "\n",
    "\n",
    "___\n",
    "\n"
   ]
  },
  {
   "cell_type": "markdown",
   "metadata": {},
   "source": [
    "### 🆎Abstract\n",
    "\n",
    "Biodiversity in natural areas is a real treasure that must be preserved for the well-being of current and future generations. One way to contribute to this global goal is by monitoring species under various conservation statuses within protected ecosystems.\n",
    "\n",
    "In this project, I apply data science, data analysis, and data visualization technics, to explore biodiversity patterns using two datasets - `species_info.csv` and `observations.csv` - provided by Codecademy. Python libraries such as Pandas, Matplotlib, and Seaborn are used to process, analyze, and visualize the data. The goal is to uncover insights into species richness, conservation status distribution, and ecological representation across U.S. national parks.\n",
    "\n",
    "\n",
    "___"
   ]
  },
  {
   "cell_type": "markdown",
   "metadata": {},
   "source": [
    "### 🗝️ Key Words\n",
    "\n",
    "Biodiversity, Natural Areas, Conservation, Data Analysis, Data Visualization, Python, Jupyter Notebooks\n",
    "\n",
    "___"
   ]
  },
  {
   "cell_type": "markdown",
   "metadata": {},
   "source": [
    "### 🌳1 - Introduction\n",
    "\n",
    "According to United Nations (UN), biodiversity - or biological diversity - is defined as the \"variety of life on Earth, in all its forms, from genes and bacteria to entire ecosystems as forests or coral reefs\" **[1]**. Biodiversity plays a vital role in sustaining life on Earth by supporting food production, clean water, medicine, climate stability, and economic growth supported, i.e., by robust ecosystem services such as pollination, water purification, and climate regulation. Over half of the global GDP depends on nature, and forests and oceans could act as carbon sinks, absorbing more than half of all carbon emissions **[1]**. \n",
    "\n",
    "However, this delicate and invaluable richness is increasingly threatened by human activities. Land use — particularly agriculture — is the leading driver of biodiversity loss, while climate change continues to accelerate species extinction and ecosystem collapse **[1]**.\n",
    "\n",
    "\n",
    "This project aims to develop practical skills in data analysis and interpretation using Python libraries such as Pandas, Matplotlib, and Seaborn. The datasets, provided by Codecademy, focus on biodiversity — a critical component of ecological resilience and sustainability. Two CSV files are used: `species_info.csv`, which contains metadata about various species, and `observations.csv`, which records species sightings across national parks. Through exploratory analysis and visualization, the project seeks to uncover patterns in species distribution and conservation status.\n",
    "\n",
    "Additionally, the analysis aims to explore ecological representation across protected areas, identifying trends in species richness and conservation priorities.\n",
    "\n",
    "\n",
    "#### ℹ️1.1 - Dataset Overview\n",
    "\n",
    "**`species_info.csv`contains:**\n",
    "- `category`: Broad classification of the species (e.g., Mammal, Bird, Reptile);\n",
    "- `scientific_name`: Latin name of the species;\n",
    "- `common_names`: Common names used to refer to the species;\n",
    "- `conservation_status`: Indicates if the species is endangered, threatened, or of least concern;\n",
    "\n",
    "**`observations.csv` contains:**\n",
    "- `scientific_name`: Latin name of the species observed;\n",
    "- `park_name`: Name of the national park where the observation was recorded;\n",
    "- `observations`: Number of times the species was observed in that park;\n",
    "\n",
    "\n",
    "___\n"
   ]
  },
  {
   "cell_type": "markdown",
   "metadata": {},
   "source": [
    "### 🧪 2 - Methodology\n",
    "\n",
    "This project employs a structured data analysis workflow to explore biodiversity patterns across U.S. national parks. The methodology is designed to address the core themes outlined in the title and introduction: conservation status and species distribution.\n",
    "Moreover, it is also intended, to practice and employ data science, data analysis and data visualization technics, gathered during \"Data Scientist: Machine Learning Specialist - career Path\" course.\n",
    "\n",
    "#### 🛜2.1 - Data Sources\n",
    "\n",
    "Two datasets provided by Codecademy form the basis of this analysis:\n",
    "\n",
    "- `species_info.csv`: Contains metadata on species, including category, scientific and common names, and conservation status.\n",
    "\n",
    "- `observations.csv`: Records the number of times each species was observed in specific national parks.\n",
    "\n",
    "#### 💻2.2 - Analytical Approach\n",
    "\n",
    "To assess biodiversity and conservation insights, the following steps are undertaken:\n",
    "\n",
    "- **Data Cleaning and Integration**: Ensure consistency in species naming and merge datasets where necessary.\n",
    "\n",
    "- **Exploratory Data Analysis (EDA)**: Use Pandas to summarize species categories, conservation status, and observation counts.\n",
    "\n",
    "- **Visualization**: Apply Matplotlib and Seaborn to uncover patterns in species richness and conservation distribution across parks.\n",
    "\n",
    "- **Comparative Analysis*: Identify which parks host the highest number of endangered or threatened species.\n",
    "\n",
    "- **Ecological Representation**: Evaluate how well different species categories are represented across protected areas.\n",
    "\n",
    "\n",
    "#### 🛠️2.3 - Tools and Environment\n",
    "\n",
    "- **Programming Language**: Python\n",
    "\n",
    "- **Libraries**: Pandas, Matplotlib, Seaborn\n",
    "\n",
    "- **Platform**: Jupyter Notebook\n"
   ]
  },
  {
   "cell_type": "markdown",
   "metadata": {},
   "source": [
    "___\n",
    "### 3 - Understanding the Biodiversity Data"
   ]
  },
  {
   "cell_type": "markdown",
   "metadata": {},
   "source": [
    "#### 3.1 - Loading necessary python libraries"
   ]
  },
  {
   "cell_type": "code",
   "execution_count": 23,
   "metadata": {},
   "outputs": [],
   "source": [
    "import pandas as pd"
   ]
  },
  {
   "cell_type": "markdown",
   "metadata": {},
   "source": [
    "#### 3.2 - Loading data files"
   ]
  },
  {
   "cell_type": "code",
   "execution_count": 26,
   "metadata": {},
   "outputs": [],
   "source": [
    "# Loading datasets\n",
    "\n",
    "observ = pd.read_csv(\"observations.csv\")\n",
    "spec_info = pd.read_csv(\"species_info.csv\")"
   ]
  },
  {
   "cell_type": "markdown",
   "metadata": {
    "editable": true,
    "slideshow": {
     "slide_type": ""
    },
    "tags": []
   },
   "source": [
    "#### 3.3 - Initial data exploration"
   ]
  },
  {
   "cell_type": "code",
   "execution_count": 29,
   "metadata": {},
   "outputs": [
    {
     "name": "stdout",
     "output_type": "stream",
     "text": [
      "            scientific_name                            park_name  observations\n",
      "0        Vicia benghalensis  Great Smoky Mountains National Park            68\n",
      "1            Neovison vison  Great Smoky Mountains National Park            77\n",
      "2         Prunus subcordata               Yosemite National Park           138\n",
      "3      Abutilon theophrasti                  Bryce National Park            84\n",
      "4  Githopsis specularioides  Great Smoky Mountains National Park            85 \n",
      "\n",
      "\n",
      "\n",
      "  category                scientific_name  \\\n",
      "0   Mammal  Clethrionomys gapperi gapperi   \n",
      "1   Mammal                      Bos bison   \n",
      "2   Mammal                     Bos taurus   \n",
      "3   Mammal                     Ovis aries   \n",
      "4   Mammal                 Cervus elaphus   \n",
      "\n",
      "                                        common_names conservation_status  \n",
      "0                           Gapper's Red-Backed Vole                 NaN  \n",
      "1                              American Bison, Bison                 NaN  \n",
      "2  Aurochs, Aurochs, Domestic Cattle (Feral), Dom...                 NaN  \n",
      "3  Domestic Sheep, Mouflon, Red Sheep, Sheep (Feral)                 NaN  \n",
      "4                                      Wapiti Or Elk                 NaN  \n",
      "\n",
      "\n",
      "According to output data, the information listed below, agrees with the stated in Data Overview section.\n"
     ]
    }
   ],
   "source": [
    "# Preview the data\n",
    "\n",
    "print(observ.head(), \"\\n\\n\\n\")\n",
    "print(spec_info.head())\n",
    "\n",
    "# Notes:\n",
    "\n",
    "answer = \"\\n\\nAccording to output data, the information listed below, agrees with the stated in Data Overview section.\"\n",
    "print(answer)"
   ]
  },
  {
   "cell_type": "code",
   "execution_count": 31,
   "metadata": {},
   "outputs": [
    {
     "name": "stdout",
     "output_type": "stream",
     "text": [
      "Species:\n",
      "<class 'pandas.core.frame.DataFrame'>\n",
      "RangeIndex: 5824 entries, 0 to 5823\n",
      "Data columns (total 4 columns):\n",
      " #   Column               Non-Null Count  Dtype \n",
      "---  ------               --------------  ----- \n",
      " 0   category             5824 non-null   object\n",
      " 1   scientific_name      5824 non-null   object\n",
      " 2   common_names         5824 non-null   object\n",
      " 3   conservation_status  191 non-null    object\n",
      "dtypes: object(4)\n",
      "memory usage: 182.1+ KB\n",
      "None\n",
      "\n",
      "Observations:\n",
      "<class 'pandas.core.frame.DataFrame'>\n",
      "RangeIndex: 23296 entries, 0 to 23295\n",
      "Data columns (total 3 columns):\n",
      " #   Column           Non-Null Count  Dtype \n",
      "---  ------           --------------  ----- \n",
      " 0   scientific_name  23296 non-null  object\n",
      " 1   park_name        23296 non-null  object\n",
      " 2   observations     23296 non-null  int64 \n",
      "dtypes: int64(1), object(2)\n",
      "memory usage: 546.1+ KB\n",
      "None\n",
      "\n",
      "\n",
      "According to output, it seems that every column has the right data type. However, all columns for species have 5824 records, except 'conservation_status' which has 191 records.\n"
     ]
    }
   ],
   "source": [
    "# Checking dimensions and data type\n",
    "\n",
    "print(\"Species:\")\n",
    "print(spec_info.info())\n",
    "print(\"\\nObservations:\")\n",
    "print(observ.info())\n",
    "\n",
    "answer1 = \"\\n\\nAccording to output, it seems that every column has the right data type. However, all columns for species have 5824 records, except 'conservation_status' which has 191 records.\"\n",
    "print(answer1)"
   ]
  },
  {
   "cell_type": "code",
   "execution_count": 33,
   "metadata": {},
   "outputs": [
    {
     "name": "stdout",
     "output_type": "stream",
     "text": [
      "Species unique categories:  ['Mammal' 'Bird' 'Reptile' 'Amphibian' 'Fish' 'Vascular Plant'\n",
      " 'Nonvascular Plant']\n",
      "\n",
      "\n",
      "Unique conservation status:  [nan 'Species of Concern' 'Endangered' 'Threatened' 'In Recovery']\n"
     ]
    }
   ],
   "source": [
    "# Unique values per column\n",
    "\n",
    "print(\"Species unique categories: \", spec_info['category'].unique())\n",
    "print(\"\\n\\nUnique conservation status: \", spec_info['conservation_status'].unique())"
   ]
  },
  {
   "cell_type": "code",
   "execution_count": null,
   "metadata": {},
   "outputs": [],
   "source": []
  },
  {
   "cell_type": "code",
   "execution_count": null,
   "metadata": {},
   "outputs": [],
   "source": []
  },
  {
   "cell_type": "code",
   "execution_count": null,
   "metadata": {},
   "outputs": [],
   "source": []
  },
  {
   "cell_type": "code",
   "execution_count": null,
   "metadata": {},
   "outputs": [],
   "source": []
  },
  {
   "cell_type": "code",
   "execution_count": null,
   "metadata": {},
   "outputs": [],
   "source": []
  },
  {
   "cell_type": "code",
   "execution_count": null,
   "metadata": {},
   "outputs": [],
   "source": []
  },
  {
   "cell_type": "markdown",
   "metadata": {},
   "source": [
    "___\n",
    "\n",
    "### 7 - References\n",
    "\n",
    "**[1]** United Nations (n.d.); Climate Action; *Biodiversity - our strongest natural defense against climate change*. Retrieved October 24, 2025, from https://www.un.org/en/climatechange/science/climate-issues/biodiversity.\n",
    "\n",
    "**[2]** "
   ]
  },
  {
   "cell_type": "code",
   "execution_count": null,
   "metadata": {},
   "outputs": [],
   "source": []
  }
 ],
 "metadata": {
  "kernelspec": {
   "display_name": "Python 3 (ipykernel)",
   "language": "python",
   "name": "python3"
  },
  "language_info": {
   "codemirror_mode": {
    "name": "ipython",
    "version": 3
   },
   "file_extension": ".py",
   "mimetype": "text/x-python",
   "name": "python",
   "nbconvert_exporter": "python",
   "pygments_lexer": "ipython3",
   "version": "3.12.3"
  }
 },
 "nbformat": 4,
 "nbformat_minor": 4
}
