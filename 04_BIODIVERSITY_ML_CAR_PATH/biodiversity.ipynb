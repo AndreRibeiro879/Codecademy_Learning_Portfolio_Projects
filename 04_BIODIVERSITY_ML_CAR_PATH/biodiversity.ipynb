{
 "cells": [
  {
   "cell_type": "markdown",
   "metadata": {
    "jp-MarkdownHeadingCollapsed": true
   },
   "source": [
    "# 📚 Table of Contents\n",
    "\n",
    "- [1 - INTRODUCTION](#1---introduction)\n",
    "- [1.1 - Dataset Overview](#11---dataset-overview)\n",
    "- [2 - Understanding the Biodiversity Data](#2---understanding-the-biodiversity-data)"
   ]
  },
  {
   "cell_type": "markdown",
   "metadata": {
    "jp-MarkdownHeadingCollapsed": true
   },
   "source": [
    "# 1 - INTRODUCTION\n",
    "\n",
    "According to United Nations (UN), biodiversity - or biological diversity - is defined as the \"variety of life on Earth, in all its forms, from genes and bacteria to entire ecosystems as forests or coral reefs\" **[1]**. Biodiversity plays a vital role in sustaining life on Earth by supporting food production, clean water, medicine, climate stability, and economic growth supported, i.e., by robust ecosystem services such as pollination, water purification, and climate regulation. Over half of the global GDP depends on nature, and forests and oceans could act as carbon sinks, absorbing more than half of all carbon emissions **[1]**. \n",
    "\n",
    "However, this delicate and invaluable richness is increasingly threatened by human activities. Land use — particularly agriculture — is the leading driver of biodiversity loss, while climate change continues to accelerate species extinction and ecosystem collapse **[1]**.\n",
    "\n",
    "\n",
    "This project aims to develop practical skills in data analysis and interpretation using Python libraries such as Pandas, Matplotlib, and Seaborn. The datasets, provided by Codecademy, focus on biodiversity — a critical component of ecological resilience and sustainability. Two CSV files are used: species_info.csv, which contains metadata about various species, and observations.csv, which records species sightings across national parks. Through exploratory analysis and visualization, the project seeks to uncover patterns in species distribution and conservation status.\n",
    "\n",
    "Additionally, the analysis aims to explore ecological representation across protected areas, identifying trends in species richness and conservation priorities.\n",
    "\n",
    "\n",
    "## 1.1 - Dataset Overview\n",
    "\n",
    "**`species_info.csv`contains:**\n",
    "- `category`: Broad classification of the species (e.g., Mammal, Bird, Reptile);\n",
    "- `scientific_name`: Latin name of the species;\n",
    "- `common_names`: Common names used to refer to the species;\n",
    "- `conservation_status`: Indicates if the species is endangered, threatened, or of least concern;\n",
    "\n",
    "**`observations.csv` contains:**\n",
    "- `scientific_name`: Latin name of the species observed;\n",
    "- `park_name`: Name of the national park where the observation was recorded;\n",
    "- `observations`: Number of times the species was observed in that park;\n",
    "\n",
    "___"
   ]
  },
  {
   "cell_type": "markdown",
   "metadata": {},
   "source": [
    "___\n",
    "# 2 - Understanding the Biodiversity Data"
   ]
  },
  {
   "cell_type": "markdown",
   "metadata": {},
   "source": [
    "## 2.1 - Loading necessary python libraries"
   ]
  },
  {
   "cell_type": "code",
   "execution_count": 7,
   "metadata": {},
   "outputs": [],
   "source": [
    "import pandas as pd"
   ]
  },
  {
   "cell_type": "markdown",
   "metadata": {},
   "source": [
    "## 2.2 - Loading data files and first data explorations"
   ]
  },
  {
   "cell_type": "code",
   "execution_count": 10,
   "metadata": {},
   "outputs": [],
   "source": [
    "# Loading datasets\n",
    "\n",
    "observ = pd.read_csv(\"observations.csv\")\n",
    "spec_info = pd.read_csv(\"species_info.csv\")"
   ]
  },
  {
   "cell_type": "code",
   "execution_count": null,
   "metadata": {},
   "outputs": [
    {
     "name": "stdout",
     "output_type": "stream",
     "text": [
      "            scientific_name                            park_name  observations\n",
      "0        Vicia benghalensis  Great Smoky Mountains National Park            68\n",
      "1            Neovison vison  Great Smoky Mountains National Park            77\n",
      "2         Prunus subcordata               Yosemite National Park           138\n",
      "3      Abutilon theophrasti                  Bryce National Park            84\n",
      "4  Githopsis specularioides  Great Smoky Mountains National Park            85\n",
      "  category                scientific_name  \\\n",
      "0   Mammal  Clethrionomys gapperi gapperi   \n",
      "1   Mammal                      Bos bison   \n",
      "2   Mammal                     Bos taurus   \n",
      "3   Mammal                     Ovis aries   \n",
      "4   Mammal                 Cervus elaphus   \n",
      "\n",
      "                                        common_names conservation_status  \n",
      "0                           Gapper's Red-Backed Vole                 NaN  \n",
      "1                              American Bison, Bison                 NaN  \n",
      "2  Aurochs, Aurochs, Domestic Cattle (Feral), Dom...                 NaN  \n",
      "3  Domestic Sheep, Mouflon, Red Sheep, Sheep (Feral)                 NaN  \n",
      "4                                      Wapiti Or Elk                 NaN  \n"
     ]
    }
   ],
   "source": [
    "# Preview the data\n",
    "\n",
    "print(observ.head())\n",
    "print(spec_info.head())"
   ]
  },
  {
   "cell_type": "code",
   "execution_count": null,
   "metadata": {},
   "outputs": [],
   "source": []
  },
  {
   "cell_type": "code",
   "execution_count": null,
   "metadata": {},
   "outputs": [],
   "source": []
  },
  {
   "cell_type": "code",
   "execution_count": null,
   "metadata": {},
   "outputs": [],
   "source": []
  },
  {
   "cell_type": "code",
   "execution_count": null,
   "metadata": {},
   "outputs": [],
   "source": []
  },
  {
   "cell_type": "markdown",
   "metadata": {},
   "source": [
    "___\n",
    "\n",
    "# 7 - References\n",
    "\n",
    "**[1]** United Nations (n.d.); Climate Action; *Biodiversity - our strongest natural defense against climate change*. Retrieved October 24, 2025, from https://www.un.org/en/climatechange/science/climate-issues/biodiversity.\n",
    "\n",
    "**[2]** "
   ]
  },
  {
   "cell_type": "code",
   "execution_count": null,
   "metadata": {},
   "outputs": [],
   "source": []
  }
 ],
 "metadata": {
  "kernelspec": {
   "display_name": "Python 3 (ipykernel)",
   "language": "python",
   "name": "python3"
  },
  "language_info": {
   "codemirror_mode": {
    "name": "ipython",
    "version": 3
   },
   "file_extension": ".py",
   "mimetype": "text/x-python",
   "name": "python",
   "nbconvert_exporter": "python",
   "pygments_lexer": "ipython3",
   "version": "3.12.3"
  }
 },
 "nbformat": 4,
 "nbformat_minor": 4
}
