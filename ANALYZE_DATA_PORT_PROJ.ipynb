{
 "cells": [
  {
   "cell_type": "markdown",
   "id": "ec4e963a-019d-4a08-b026-856e789d7ea1",
   "metadata": {},
   "source": [
    "# 1 Introduction:\n",
    "\n",
    "\n"
   ]
  },
  {
   "cell_type": "markdown",
   "id": "09d763ca-4939-46e5-a0d9-7f3b638b3dec",
   "metadata": {},
   "source": [
    "# 2 Project Development\n"
   ]
  },
  {
   "cell_type": "code",
   "execution_count": 9,
   "id": "96ac9434-4b74-4a92-80a0-0d125758ea2f",
   "metadata": {},
   "outputs": [],
   "source": [
    "# Importing packages\n",
    "\n",
    "import pandas as pd\n",
    "import numpy as np\n",
    "import matplotlib.pyplot as plt"
   ]
  },
  {
   "cell_type": "markdown",
   "id": "5a4f67eb-e52e-430c-836f-73e3a7315f8e",
   "metadata": {},
   "source": [
    "# Bibliography\n",
    "\n",
    "Diabetes prediction dataset - available at: https://www.kaggle.com/datasets/iammustafatz/diabetes-prediction-dataset, Mohammed Mustafa, downloaded at 09 of November of 2024. \n",
    "\n",
    "GLOBAL REPORT \n",
    "ON DIABETE - World Health Organization, UN, WHO Library Cataloguing-in-Publication Data, 2016, available at: https://iris.who.int/bitstream/handle/10665/204871/9789241565257_eng.pdf, consulted at 10 of November of 2024.\n",
    "\n",
    "Use of Glycated Haemoglobin \n",
    "(HbA1c) in the Diagnosis of Diabete \r\n",
    "Mellit - Abbreviated Report of a WHO Consultation - © World Health Organization 2011, available at: https://iris.who.int/bitstream/handle/10665/70523/WHO_NMH_CHP_CPM_11.1_eng.pdf, consulted at 10 of November of 2024.usS"
   ]
  }
 ],
 "metadata": {
  "kernelspec": {
   "display_name": "Python 3 (ipykernel)",
   "language": "python",
   "name": "python3"
  },
  "language_info": {
   "codemirror_mode": {
    "name": "ipython",
    "version": 3
   },
   "file_extension": ".py",
   "mimetype": "text/x-python",
   "name": "python",
   "nbconvert_exporter": "python",
   "pygments_lexer": "ipython3",
   "version": "3.12.4"
  }
 },
 "nbformat": 4,
 "nbformat_minor": 5
}
